{
 "cells": [
  {
   "cell_type": "code",
   "execution_count": null,
   "id": "7fe03c1c",
   "metadata": {},
   "outputs": [],
   "source": [
    "import pandas as pd\n",
    "import numpy as np\n",
    "import matplotlib.pyplot as plt"
   ]
  },
  {
   "cell_type": "code",
   "execution_count": null,
   "id": "0cb710d8",
   "metadata": {},
   "outputs": [],
   "source": [
    "# Dosya yolunu tam olarak belirtiyoruz\n",
    "file_path = r'C:\\Users\\Barış\\Desktop\\soru1_2_data.xlsx'"
   ]
  },
  {
   "cell_type": "code",
   "execution_count": null,
   "id": "f322390f",
   "metadata": {},
   "outputs": [],
   "source": [
    "# Dosyayı yükle\n",
    "df = pd.read_excel(file_path)"
   ]
  },
  {
   "cell_type": "code",
   "execution_count": null,
   "id": "c8a64e21",
   "metadata": {},
   "outputs": [],
   "source": [
    "# Veriyi numpy array'e çevir\n",
    "data = df.to_numpy()"
   ]
  },
  {
   "cell_type": "code",
   "execution_count": null,
   "id": "e3aced5d",
   "metadata": {},
   "outputs": [],
   "source": [
    "# Contrast Equalization fonksiyonu\n",
    "def contrast_equalization(data, L=256):\n",
    "    # Histogram ve CDF hesapla\n",
    "    hist, bins = np.histogram(data.flatten(), bins=L, range=[0, L])\n",
    "    cdf = hist.cumsum()\n",
    "    cdf_normalized = cdf * (L - 1) / cdf[-1]\n",
    "\n",
    "    # Yeni yoğunluk değerlerini hesapla\n",
    "    equalized_data = np.interp(data.flatten(), bins[:-1], cdf_normalized).reshape(data.shape)\n",
    "\n",
    "    return equalized_data, hist, cdf_normalized, bins[:-1]"
   ]
  },
  {
   "cell_type": "code",
   "execution_count": null,
   "id": "e3b219b6",
   "metadata": {},
   "outputs": [],
   "source": [
    "# Contrast Equalization uygulaması\n",
    "equalized_data, hist, cdf_normalized, bins = contrast_equalization(data)\n",
    "print(\"Contrast Equalization Sonucu:\\n\", equalized_data)"
   ]
  },
  {
   "cell_type": "code",
   "execution_count": null,
   "id": "10d68a9a",
   "metadata": {},
   "outputs": [],
   "source": [
    "# Histogram ve CDF tablosunu göster\n",
    "hist_cdf_df = pd.DataFrame({'Pixel Value': bins, 'Frequency': hist, 'CDF': cdf_normalized})\n",
    "print(hist_cdf_df)"
   ]
  },
  {
   "cell_type": "code",
   "execution_count": null,
   "id": "61d2b6c7",
   "metadata": {},
   "outputs": [],
   "source": [
    "# Ara Tabloları ve Matris Görüntülerini Göster\n",
    "plt.figure(figsize=(18, 12))"
   ]
  },
  {
   "cell_type": "code",
   "execution_count": null,
   "id": "2646e1ac",
   "metadata": {},
   "outputs": [],
   "source": [
    "# Orijinal Görüntü\n",
    "plt.subplot(3, 2, 1)\n",
    "plt.title('Original Image')\n",
    "plt.imshow(data, cmap='gray', vmin=0, vmax=255)\n",
    "plt.colorbar()"
   ]
  },
  {
   "cell_type": "code",
   "execution_count": null,
   "id": "65272a0b",
   "metadata": {},
   "outputs": [],
   "source": [
    "# Eşitlenmiş Görüntü\n",
    "plt.subplot(3, 2, 2)\n",
    "plt.title('Equalized Image')\n",
    "plt.imshow(equalized_data, cmap='gray', vmin=0, vmax=255)\n",
    "plt.colorbar()"
   ]
  },
  {
   "cell_type": "code",
   "execution_count": null,
   "id": "2f3eac78",
   "metadata": {},
   "outputs": [],
   "source": [
    "# Original Histogram\n",
    "plt.subplot(3, 2, 3)\n",
    "plt.title('Original Histogram')\n",
    "plt.hist(data.flatten(), bins=256, range=[0, 256], color='blue', alpha=0.7)"
   ]
  },
  {
   "cell_type": "code",
   "execution_count": null,
   "id": "01d7a68e",
   "metadata": {},
   "outputs": [],
   "source": [
    "# Equalized Histogram\n",
    "plt.subplot(3, 2, 4)\n",
    "plt.title('Equalized Histogram')\n",
    "plt.hist(equalized_data.flatten(), bins=256, range=[0, 256], color='green', alpha=0.7)"
   ]
  },
  {
   "cell_type": "code",
   "execution_count": null,
   "id": "33b4cd51",
   "metadata": {},
   "outputs": [],
   "source": [
    "# CDF\n",
    "plt.subplot(3, 2, 5)\n",
    "plt.title('CDF')\n",
    "plt.plot(cdf_normalized, color='red')"
   ]
  },
  {
   "cell_type": "code",
   "execution_count": null,
   "id": "7f3a057f",
   "metadata": {},
   "outputs": [],
   "source": [
    "plt.tight_layout()\n",
    "plt.show()"
   ]
  }
 ],
 "metadata": {
  "jupytext": {
   "cell_metadata_filter": "-all",
   "main_language": "python",
   "notebook_metadata_filter": "-all"
  }
 },
 "nbformat": 4,
 "nbformat_minor": 5
}
