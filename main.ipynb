{
 "cells": [
  {
   "cell_type": "code",
   "execution_count": null,
   "id": "3bb44f7f",
   "metadata": {},
   "outputs": [],
   "source": [
    "import pandas as pd\n",
    "import numpy as np\n",
    "import matplotlib.pyplot as plt"
   ]
  },
  {
   "cell_type": "code",
   "execution_count": null,
   "id": "37d74fff",
   "metadata": {},
   "outputs": [],
   "source": [
    "# Dosya yolunu tam olarak belirtiyoruz\n",
    "file_path = 'excel_files/soru1_2_data.xlsx'"
   ]
  },
  {
   "cell_type": "code",
   "execution_count": null,
   "id": "9ba4833f",
   "metadata": {},
   "outputs": [],
   "source": [
    "# Dosyayı yükle\n",
    "df = pd.read_excel(file_path)"
   ]
  },
  {
   "cell_type": "code",
   "execution_count": null,
   "id": "559ababc",
   "metadata": {},
   "outputs": [],
   "source": [
    "# Veriyi numpy array'e çevir\n",
    "data = df.to_numpy()"
   ]
  },
  {
   "cell_type": "code",
   "execution_count": null,
   "id": "3418608c",
   "metadata": {
    "lines_to_next_cell": 1
   },
   "outputs": [],
   "source": [
    "# L değeri (gri ton seviyeleri)\n",
    "L = 256"
   ]
  },
  {
   "cell_type": "code",
   "execution_count": null,
   "id": "270abaaf",
   "metadata": {
    "lines_to_next_cell": 1
   },
   "outputs": [],
   "source": [
    "# Contrast Equalization fonksiyonu\n",
    "def contrast_equalization(data, L=256):\n",
    "    # Histogram ve CDF hesapla\n",
    "    hist, bins = np.histogram(data.flatten(), bins=L, range=[0, L])\n",
    "    cdf = hist.cumsum()\n",
    "    cdf_normalized = cdf * (L - 1) / cdf[-1]\n",
    "\n",
    "    # Yeni yoğunluk değerlerini hesapla\n",
    "    equalized_data = np.interp(data.flatten(), bins[:-1], cdf_normalized).reshape(data.shape)\n",
    "\n",
    "    return equalized_data, hist, cdf_normalized, bins[:-1]"
   ]
  },
  {
   "cell_type": "code",
   "execution_count": null,
   "id": "a3d0a24b",
   "metadata": {},
   "outputs": [],
   "source": [
    "# Contrast Equalization uygulaması\n",
    "equalized_data, hist, cdf_normalized, bins = contrast_equalization(data, L)"
   ]
  },
  {
   "cell_type": "code",
   "execution_count": null,
   "id": "bc16c012",
   "metadata": {},
   "outputs": [],
   "source": [
    "# Piksel değerleri, frekanslar, CDF ve eşitlenmiş piksel değerlerini tabloya dönüştürme\n",
    "original_values = data.flatten()\n",
    "equalized_values = equalized_data.flatten()"
   ]
  },
  {
   "cell_type": "code",
   "execution_count": null,
   "id": "557bb978",
   "metadata": {},
   "outputs": [],
   "source": [
    "# Piksel değerlerinin benzersiz ve sıralanmış bir listesini oluşturma\n",
    "unique_values = np.sort(np.unique(original_values))"
   ]
  },
  {
   "cell_type": "code",
   "execution_count": null,
   "id": "59504c1c",
   "metadata": {},
   "outputs": [],
   "source": [
    "# Frekans, CDF ve eşitlenmiş piksel değerleri hesaplama\n",
    "frequencies = [np.sum(original_values == value) for value in unique_values]\n",
    "cdfs = [np.sum(frequencies[:i+1]) for i in range(len(frequencies))]\n",
    "equalized_values_unique = [round(((cdf - cdfs[0]) / (len(original_values) - cdfs[0])) * (L - 1)) for cdf in cdfs]"
   ]
  },
  {
   "cell_type": "code",
   "execution_count": null,
   "id": "9dc153da",
   "metadata": {},
   "outputs": [],
   "source": [
    "# Tablo oluşturma\n",
    "results_df = pd.DataFrame({\n",
    "    'v, Pixel Intensity': unique_values,\n",
    "    'Frequency': frequencies,\n",
    "    'cdf(v)': cdfs,\n",
    "    'h(v), Equalized v': equalized_values_unique\n",
    "})"
   ]
  },
  {
   "cell_type": "code",
   "execution_count": null,
   "id": "acc057f3",
   "metadata": {},
   "outputs": [],
   "source": [
    "# Tablonun gösterilmesi\n",
    "print(results_df)"
   ]
  },
  {
   "cell_type": "code",
   "execution_count": null,
   "id": "607886a8",
   "metadata": {},
   "outputs": [],
   "source": [
    "# Tablonun Excel dosyasına kaydedilmesi\n",
    "output_file_path = 'excel_files/contrast_equalization_results.xlsx'\n",
    "results_df.to_excel(output_file_path, index=False)\n",
    "print(f'Tablo başarıyla {output_file_path} dosyasına kaydedildi.')"
   ]
  },
  {
   "cell_type": "code",
   "execution_count": null,
   "id": "b7d84b3a",
   "metadata": {},
   "outputs": [],
   "source": [
    "# Ara Tabloları ve Matris Görüntülerini Göster\n",
    "plt.figure(figsize=(18, 12))"
   ]
  },
  {
   "cell_type": "code",
   "execution_count": null,
   "id": "bcb3f12d",
   "metadata": {},
   "outputs": [],
   "source": [
    "# Orijinal Görüntü\n",
    "plt.subplot(3, 2, 1)\n",
    "plt.title('Original Image')\n",
    "plt.imshow(data, cmap='gray', vmin=0, vmax=255)\n",
    "plt.colorbar()"
   ]
  },
  {
   "cell_type": "code",
   "execution_count": null,
   "id": "0b9f51c5",
   "metadata": {},
   "outputs": [],
   "source": [
    "# Eşitlenmiş Görüntü\n",
    "plt.subplot(3, 2, 2)\n",
    "plt.title('Equalized Image')\n",
    "plt.imshow(equalized_data, cmap='gray', vmin=0, vmax=255)\n",
    "plt.colorbar()"
   ]
  },
  {
   "cell_type": "code",
   "execution_count": null,
   "id": "02d7b4e9",
   "metadata": {},
   "outputs": [],
   "source": [
    "# Orijinal Histogram\n",
    "plt.subplot(3, 2, 3)\n",
    "plt.title('Original Histogram')\n",
    "plt.hist(data.flatten(), bins=256, range=[0, 256], color='blue', alpha=0.7)"
   ]
  },
  {
   "cell_type": "code",
   "execution_count": null,
   "id": "4e9df71b",
   "metadata": {},
   "outputs": [],
   "source": [
    "# Eşitlenmiş Histogram\n",
    "plt.subplot(3, 2, 4)\n",
    "plt.title('Equalized Histogram')\n",
    "plt.hist(equalized_data.flatten(), bins=256, range=[0, 256], color='green', alpha=0.7)"
   ]
  },
  {
   "cell_type": "code",
   "execution_count": null,
   "id": "a6569c3b",
   "metadata": {},
   "outputs": [],
   "source": [
    "# CDF\n",
    "plt.subplot(3, 2, 5)\n",
    "plt.title('CDF')\n",
    "plt.plot(cdf_normalized, color='red')"
   ]
  },
  {
   "cell_type": "code",
   "execution_count": null,
   "id": "6242c2ce",
   "metadata": {},
   "outputs": [],
   "source": [
    "plt.tight_layout()\n",
    "plt.show()"
   ]
  }
 ],
 "metadata": {
  "jupytext": {
   "cell_metadata_filter": "-all",
   "main_language": "python",
   "notebook_metadata_filter": "-all"
  }
 },
 "nbformat": 4,
 "nbformat_minor": 5
}
